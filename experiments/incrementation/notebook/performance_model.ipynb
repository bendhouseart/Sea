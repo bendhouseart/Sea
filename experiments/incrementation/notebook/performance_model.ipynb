{
 "cells": [
  {
   "cell_type": "markdown",
   "metadata": {},
   "source": [
    "## Sea Performance Model\n",
    "\n",
    "The performace of the system as a whole can be broken down into three components: 1) The amount of time it takes\n",
    "to read the data from Lustre, 2) the amount of time it takes to read and write the required data to memory, and 3) the amount of time it takes to read and write the data to disk. \n",
    "\n",
    "First, we shall devise a simplified performance model for Lustre alone, as this will give us an upper bound to the \n",
    "added performance of Sea. We describe Lustre's performance as follows:\n",
    "\n",
    "$$ M_{l} =  \\frac{D_{in}I}{\\min{(B_{n}N_{c}, B_{n}N_{d}, B_{lr}O)}} + \\frac{D_{in}I}{\\min{(B_{n}N_{c}, B_{n}N{d}, B_{lw}O)}}$$\n",
    "\n",
    "$\\text{Where,}$<br>\n",
    "$M_{l}$ represents Lustres makespan<br>\n",
    "$D_{in}$ is the size of the input dataset<br>\n",
    "$I$ is the total number of iterations<br>\n",
    "$O$ is the number of Lustre OSTs<br>\n",
    "$N_{c}$ is the number of compute nodes<br>\n",
    "$N_{d}$ is the number of data nodes<br>\n",
    "$B_{n}$ is the network bandwidth<br>\n",
    "$B_{lr}$ is a Lustre OST's read bandwidth<br>\n",
    "$B_{lw}$ is a Lustre OST's write bandwidth<br>\n",
    "\n",
    "Essentially, the makespan can be descriped as the total time it takes to read and write all the data to and from Lustre. Lustre can have a bottleneck in one of two places: within the network transfer, due to limited network bandwidth, or the OSTs, due to collective disk bandwidths. It is important to account for both of these bottlenecks as they may fluctuate depending on the number of compute nodes required for a given experiment.\n"
   ]
  },
  {
   "cell_type": "markdown",
   "metadata": {},
   "source": [
    "From here, we can expand the model to calculate the performance of Sea. To simplify our understanding of the model, we will break it up into the involved storage components, namely, Lustre, local disk and tmpfs. For simplicity's sake, we will ignore flushing in the model.\n",
    "\n",
    "The makespan of the Lustre component of Sea can be calculated as follows:\n",
    "\n",
    "$$M_{sl} = \\frac{D_{in}}{\\min{(B_{n}N, B_{lr}O)}}$$\n",
    "\n",
    "Where,<br>\n",
    "$M_{sl}$ is the makespan of the Sea's Lustre component<br>\n",
    "$D_{in}$ is the size of the input dataset<br>\n",
    "$N$ is the number of compute nodes<br>\n",
    "$O$ is the number of Lustre OSTs<br>\n",
    "$B_{n}$ is the network bandwidth<br>\n",
    "$B_{lr}$ is a Lustre OST's read bandwidth<br>\n",
    "\n",
    "Unlike the Lustre makespan model, we do not account for Lustre write time here. We choose to make the assumption that all the data can fit on local disks, and the data destined for Lustre will be flushed asynchronously by Sea other than written directly."
   ]
  },
  {
   "cell_type": "markdown",
   "metadata": {},
   "source": [
    "As available tmpfs space is limited, the amount of data written to tmpfs can be described as the minimum between the total amount of data to be written and the total amount of available tmpfs space. In other words:\n",
    "\n",
    "** Take average Fn/2** \n",
    "\n",
    "$$D_{tw} = \\min\\left[D_{in}I, \\left( S_{t} - Fn\\right)N \\right]$$\n",
    "\n",
    "Where,<br>\n",
    "$D_{tr}$ is the total amount of data written to tmpfs<br>\n",
    "$D_{in}$ is the size of the input dataset<br>\n",
    "$I$ is the number of iterations<br>\n",
    "$S_{t}$ is the amount of available storage on tmpfs<br>\n",
    "$F$ is the size of an individual file<br>\n",
    "$n$ is the number of threads per node<br>\n",
    "$N$ is the total number of nodes<br>\n",
    "\n",
    "Sea restricts the total tmpfs space to ensure that there are no out-of-memory errors during concurrent writes. \n",
    "It does so by ensuring that there is at least sufficient space to write all the files written by concurrently executing threads.\n",
    "\n",
    "Amount of data read by tmpfs is similar to the amount of data written by tmpfs, as all data written to tmpfs can be read from tmpfs. It varies in the last iterations of files written will not be read. The amount of data that can be read from tmpfs can therefore be described as:\n",
    "\n",
    "$$D_{tr} = \\min\\left[D_{in}(I-1), \\left(S_{t} - Fn\\right)N\\right]$$\n",
    "\n",
    "Where,<br>\n",
    "$D_{tr}$ is the total amount of data read from tmpfs<br>\n",
    "$D_{in}$ is the size of the input dataset<br>\n",
    "$I$ is the number of iterations<br>\n",
    "$S_{t}$ is the amount of available storage on tmpfs<br>\n",
    "$F$ is the size of an individual file<br>\n",
    "$n$ is the number of threads per node<br>\n",
    "$N$ is the total number of nodes<br>\n",
    "\n",
    "\n",
    "The makespan of the tmpfs component of Sea can be described as follows:\n",
    "\n",
    "$$M_{st} = \\frac{D_{tr}}{B_{mr}N} + \\frac{D_{tw}}{B_{mw}N}$$\n",
    "\n",
    "Where,<br>\n",
    "$M_{st}$ is the makespan of Sea's tmpfs component<br>\n",
    "$D_{tr}$ is the amount of data read from tmpfs<br>\n",
    "$D_{tw}$ is the amount of data written to tmpfs<br>\n",
    "$N$ is the number of compute nodes<br>\n",
    "$B_{mr}$ is the read bandwidth of tmpfs<br>\n",
    "$B_{mw}$ is the write bandwidth of tmpfs<br>"
   ]
  },
  {
   "cell_type": "markdown",
   "metadata": {},
   "source": [
    "The disk component of Sea is similar to the tmpfs component, in that it is a storage device with limited space. However, as it is at the second level of the hierarchy, we must deduct what has already been written to tmpfs from the total amount of data that can be written to disk. As a result, the total amount of data written to disk can be described as follows:\n",
    "\n",
    "$$D_{dw} = \\min\\left(D_{in}I - D_{tw}, S_{d}dN\\right)$$\n",
    "\n",
    "Where,<br>\n",
    "$D_{dw}$ is the amount of data written to disk<br>\n",
    "$D_{in}$ is the size of the input dataset<br>\n",
    "$D_{tw}$ is the amount of data written to tmpfs<br>\n",
    "$I$ is the number of iterations<br>\n",
    "$S_{d}$ is the amount of available disk storage per disk<br>\n",
    "$N$ is the number of compute nodes<br>\n",
    "$d$ is the number of disks per compute node<br>\n",
    "\n",
    "The same can be said for disk reads, which can be described as:\n",
    "\n",
    "$$D_{dr} = \\min\\left(D_{in}(I-1) - D_{tr}, S_{d}dN\\right)$$\n",
    "\n",
    "Where,<br>\n",
    "$D_{dr}$ is the amount of data written to disk<br>\n",
    "$D_{in}$ is the size of the input dataset<br>\n",
    "$D_{tr}$ is the amount of data written to tmpfs<br>\n",
    "$I$ is the number of iterations<br>\n",
    "$S_{d}$ is the amount of available disk storage per disk<br>\n",
    "$N$ is the number of compute nodes<br>\n",
    "$d$ is the number of disks per compute node<br>\n",
    "\n",
    "The makespan of the disk component of Sea can then be described as:\n",
    "\n",
    "$$M_{sd} = \\frac{D_{dr}}{B_{dr}dN} + \\frac{D_{dw}}{B_{dw}dN}$$\n",
    "\n",
    "Where,<br>\n",
    "$M_{sd}$ is the makespan of Sea's disk component<br>\n",
    "$D_dr$ is the size of the data read from disk <br>\n",
    "$D_dw$ is the size of the data read to disk<br>\n",
    "$N$ is the number of compute nodes<br>\n",
    "$d$ is the number of disks per compute node<br>\n",
    "$B_{dr}$ is the disk read bandwidth<br>\n",
    "$B_{dw}$ is the disk write bandwidth<br>\n",
    "\n",
    "Since the parallel bandwidth of disk on a single node may fluctuate with the number of disks used, the distributed bandwidth of local disk must be multiplied by the number of compute nodes and disks used."
   ]
  },
  {
   "cell_type": "markdown",
   "metadata": {},
   "source": [
    "Sea's bandwidth can therefore be calculated as a sum of the individual components. More formally, the makespan of an incrementaion pipeline running alongside Sea can be described as as:\n",
    "\n",
    "$$M_{total} = M_{sl} + M_{st} + M_{sd}$$\n",
    "\n",
    "Where,<br>\n",
    "$M_{total}$ is the total makespan<br>\n",
    "$M_{sl}$ is the makespan of the Lustre component in Sea<br>\n",
    "$M_{st}$ is the makespan of the tmpfs component in Sea<br>\n",
    "$M_{sd}$ is the makespan of the disk component in Sea<br>"
   ]
  },
  {
   "cell_type": "markdown",
   "metadata": {},
   "source": [
    "### The Linux Page Cache Model\n",
    "\n",
    "\n",
    "The aforementioned models are imperfect in that they describe a scenario in which data outside of Sea is not cached in memory. This is an unlikely case as many systems leverage, by default, the page cache in order speed up I/O to non-volatile storage media.\n",
    "\n",
    "The model to calculate the amount of data that can be read from page cache is very similar to the model for Sea's tmpfs reads. The exception is that available storage is no longer a fixed value as available memory is shared between file data and applications objects. The memory occupation of a task is expected to be that of the size of a single file. Therefore, the amount of memory used by application objects corresponds to the total amount of memory used by the total number of concurrent tasks. The remainder of the memory is therefore available to be occupied by the page cache.\n",
    "\n",
    "The amount of data that will be read from page cache is as follows:\n",
    "\n",
    "$$D_{cr} = \\min\\left[N_{c}\\left(A - \\frac{Fn}{2}\\right), D_{in}\\right](I-1)$$\n",
    "\n",
    "Where,<br>\n",
    "$D_{cr}$ is the amount of data read from page cache<br>\n",
    "$D_{in}$ is the input dataset size<br>\n",
    "$N_{c}$ is the number of compute nodes<br>\n",
    "$I$ is the number of iterations<br>\n",
    "$A$ is the amount of available memory<br>\n",
    "$F$ is the file size<br>\n",
    "$n$ is the number of threads in a node<br>\n",
    "\n",
    "\n",
    "Unlike with reads, cached writes are limited to a certain percentage of available memory, known as the dirty ratio. Therefore, the amount of data that can be written to memory without being impacted by the rate of disk writes is limited by the percentage of available page cache space that can be used for writes.\n",
    "\n",
    "The amount of data that can be written with memory bandwidth is as follows:\n",
    "\n",
    "$$D_{cw} = \\min\\left[CN_{c}\\left(A - \\frac{Fn}{2}\\right), D_{in}\\right]I$$\n",
    "\n",
    "Where,<br>\n",
    "$D_{cw}$ <br>\n",
    "$D_{in}$ is the input dataset size<br>\n",
    "$N_{c}$ is the number of compute nodes<br>\n",
    "$I$ is the number of iterations<br>\n",
    "$C$ is the percentage of page cache that can be occupied by dirty data\n",
    "$A$ is the amount of available memory<br>\n",
    "$F$ is the file size<br>\n",
    "\n",
    "\n",
    "\n",
    "The page cache model can be described as follows:\n",
    "\n",
    "$$M_{pc} = \\frac{D_{cr}}{B_{mr}N_{c}} + \\frac{D_{cw}}{B_{mw}N_{c}}$$\n",
    "\n",
    "Where,<br>\n",
    "$M_{pc}$ is the makespan of reading and writing to page cache<br>\n",
    "$D_{cr}$ is the amount of data read from page cache<br>\n",
    "$D_{cw}$ is the amount of data written with memory bandwidth<br>\n",
    "$N_{c}$ is the number of compute nodes<br>\n",
    "$B_{mr}$ is the bandwidth of a memory read<br>\n",
    "$B_{mw}$ is the bandwidth of a memory write<br>\n",
    "\n",
    "\n",
    "Therefore, the Lustre makespan model can be rewritten as:\n",
    "\n",
    "$$M_{l} =  \\underbrace{\\frac{D_{in}}{\\min{(B_{n}N_{c}, B_{n}N_{d}, B_{lr}O)}}}_\\text{Lustre initial read} + \\underbrace{M_{pc}}_\\text{page cache makespan} + \\underbrace{\\frac{D_{in}(I-1) - D_{cr}}{\\min{(B_{n}N_{c}, B_{n}N_{d}, B_{lr}O)}}}_\\text{non-cached reads} + \\underbrace{\\frac{D_{in}I - D_{cw}}{\\min{(B_{n}N_{c}, B_{n}N_{d}, B_{lw}O)}}}_\\text{non-cached writes}$$\n",
    "\n",
    "Where,<br>\n",
    "$M_{l}$ represents Lustres makespan<br>\n",
    "$D_{in}$ is the size of the input dataset<br>\n",
    "$D_{cr}$ is the amount of data read from page cache<br>\n",
    "$D_{cw}$ is the amount of data written with memory bandwidth<br>\n",
    "$I$ is the total number of iterations<br>\n",
    "$O$ is the number of Lustre OSTs<br>\n",
    "$N$ is the number of compute nodes<br>\n",
    "$B_{n}$ is the network bandwidth<br>\n",
    "$B_{lr}$ is a Lustre OST's read bandwidth<br>\n",
    "$B_{lw}$ is a Lustre OST's write bandwidth<br>\n",
    "$B_{mr}$ is the bandwidth of a memory read<br>\n",
    "$B_{mw}$ is the bandwidth of a memory write<br>\n",
    "\n",
    "\n",
    "As Sea leverages tmpfs space, which is considered to be part of non-reclaimable page cache, the page cache model must be adapted to remove tmpfs space from available memory. Therefore, the Sea model with page cache can be expressed as: \n",
    "\n",
    "** Define a function = \\min(D, S)/Bw\n",
    "\n",
    "$$M_{sea} = \\underbrace{\\frac{D}{\\min{(B_{n}N, B_{lr}O)}}}_\\text{initial Lustre read} + \\underbrace{M_{st}}_\\text{tmpfs I/O} + \\underbrace{\\frac{\\min(N(I-1)(A - Fn - \\left(S - \\frac{Fn}{2}\\right)), D(I - 1) - \\min(D(I - 1), (S - Fn)N))}{B_{mr}N}}_\\text{cached disk read} + \\underbrace{\\frac{D(I-1) - \\min(N(I-1)(A - S - Fn), D(I - 1) - \\min(D(I - 1), (S - \\frac{Fn}{2})N))}{B_{dr}dN}}_\\text{uncached disk read} + \\underbrace{\\frac{\\min(CNI(A - S - Fn), DI - \\min(DI, (S - \\frac{Fn}{2})N))}{B_{mw}N}}_\\text{cached disk write} + \\underbrace{\\frac{DI - \\min(CNI(A - S + Fn), DI - \\min(DI, (S - \\frac{Fn}{2})N))}{B_{dw}dN}}_\\text{uncached disk write}$$\n",
    "\n"
   ]
  },
  {
   "cell_type": "code",
   "execution_count": 38,
   "metadata": {},
   "outputs": [],
   "source": [
    "# lustre redone\n",
    "\n",
    "M_l = (lambda\n",
    "       D_in,\n",
    "       I,\n",
    "       O,\n",
    "       N_c,\n",
    "       N_d,\n",
    "       B_n,\n",
    "       B_lr,\n",
    "       B_lw : ((D_in * I)/ min(B_n * N_c, B_n * N_d, B_lr * min(O, n * N_c))) \n",
    "       + ((D_in * I)/ min(B_n * N_c, B_n * N_d, B_lw * min(O, n * N_c)))\n",
    ")\n",
    "\n",
    "D_cr = (lambda\n",
    "        D_in,\n",
    "        N_c,\n",
    "        I,\n",
    "        A,\n",
    "        F,\n",
    "        n : min(N_c * (A - ((F * n)/2)), D_in) * (I - 1)\n",
    "       )\n",
    "\n",
    "D_cw = (lambda\n",
    "        D_in,\n",
    "        N_c,\n",
    "        I,\n",
    "        C,\n",
    "        A,\n",
    "        F,\n",
    "        n : min(C * N_c * (A - ((F * n)/2)), D_in) * I\n",
    "        )\n",
    "\n",
    "M_pc = (lambda\n",
    "        D_in,\n",
    "        N_c,\n",
    "        I,\n",
    "        C,\n",
    "        A,\n",
    "        F,\n",
    "        n,\n",
    "        B_mr,\n",
    "        B_mw : (D_cr(D_in, N_c, I, A, F, n) / (B_mr * N_c)) + (D_cw(D_in, N_c, I, C, A, F, n)/ (B_mw * N_c))\n",
    "        )\n",
    "\n",
    "M_lpc = (lambda\n",
    "         D_in,\n",
    "         N_c,\n",
    "         N_d,\n",
    "         I,\n",
    "         C,\n",
    "         A,\n",
    "         F,\n",
    "         n,\n",
    "         O,\n",
    "         B_n,\n",
    "         B_lr,\n",
    "         B_lw,\n",
    "         B_mr,\n",
    "         B_mw:\n",
    "         (D_in / min(B_n * N_c, B_n * N_d, B_lr * min(O, n*N_c)))\n",
    "         + M_pc(D_in, N_c, I, C, A, F, n, B_mr, B_mw)\n",
    "         + (((D_in * (I - 1)) - D_cr(D_in, N_c, I, A, F, n))/ min(B_n * N_c, B_n * N_d, B_lr * min(O, n*N_c)))\n",
    "         + (((D_in * I) - D_cw(D_in, N_c, I, C, A, F, n)) / min(B_n * N_c, B_n * N_d, B_lw * min(O,n*N_c)))\n",
    ")"
   ]
  },
  {
   "cell_type": "raw",
   "metadata": {},
   "source": [
    "## Model fixed variables\n",
    "\n",
    "num_files=1000\n",
    "file_size=617\n",
    "tmpfs_size=126*1024\n",
    "a_mem=256*1024\n",
    "dirty_ratio=0.4\n",
    "\n",
    "# bandwidths\n",
    "disk_r = 510\n",
    "disk_w = 426\n",
    "\n",
    "mem_r = 6760\n",
    "mem_w = 2560\n",
    "\n",
    "lustre_r = 200\n",
    "lustre_w = 191\n",
    "lustre_disks = 44\n",
    "\n",
    "network_bw = 10*1024 #4096 #1026\n",
    "\n",
    "n_threads = 6\n",
    "n_iterations = 5\n",
    "n_nodes = 5\n",
    "n_disks = 6\n"
   ]
  },
  {
   "cell_type": "raw",
   "metadata": {},
   "source": [
    "## Makespan models\n",
    "\n",
    "n_written = lambda n_files, n_iterations: n_files * n_iterations # also number of files read from lustre\n",
    "\n",
    "# we assume that the files prioritized to memory will be read, which is not necessarily true\n",
    "input_size = lambda n_files, file_size: n_files * file_size\n",
    "\n",
    "# local read and writes\n",
    "local_read = (lambda\n",
    "    input_size,\n",
    "    n_iterations : input_size * (n_iterations - 1)) # first files read from lustre, last files not read\n",
    "local_write = (lambda\n",
    "    input_size,\n",
    "    n_iterations : input_size * n_iterations)\n",
    "\n",
    "# current setting for writing to tmpfs/disks\n",
    "avail_tmpfs = (lambda\n",
    "    n_nodes,\n",
    "    n_threads : tmpfs_size - (file_size * n_threads) * n_nodes)\n",
    "read_mem = (lambda\n",
    "    in_size,\n",
    "    n_its,\n",
    "    n_nodes, \n",
    "    nthreads : min(local_read(in_size, n_its), avail_tmpfs(n_nodes, nthreads)))\n",
    "write_mem = (lambda\n",
    "    in_size,\n",
    "    n_its,\n",
    "    n_nodes,\n",
    "    nthreads : min(local_write(in_size, n_its), avail_tmpfs(n_nodes, nthreads)))\n",
    "\n",
    "# lustre makespan breakdown\n",
    "lustre_read = (lambda\n",
    "    num_read,\n",
    "    network_bw,\n",
    "    n_nodes,\n",
    "    file_size : (num_read * file_size) / min (network_bw * n_nodes, lustre_r * lustre_disks))\n",
    "lustre_write = (lambda\n",
    "    num_flushed,\n",
    "    network_bw,\n",
    "    n_nodes,\n",
    "    file_size : (num_flushed * file_size) / min(network_bw * n_nodes, lustre_w * lustre_disks))\n",
    "\n",
    "# memory makespan break\n",
    "memory_read = (lambda\n",
    "    in_size,\n",
    "    n_its,\n",
    "    n_nodes,\n",
    "    n_threads : read_mem(in_size, n_its, n_nodes, n_threads) / (mem_r * n_nodes))\n",
    "memory_write = (lambda\n",
    "    in_size,\n",
    "    n_its,\n",
    "    n_nodes,\n",
    "    n_threads : write_mem(in_size, n_its, n_nodes, n_threads) / (mem_w * n_nodes))\n",
    "\n",
    "# local disk makespan breakdown\n",
    "# assumes the remainder of data fits on disk -- not necessarily true\n",
    "disk_read = (lambda\n",
    "    in_size,\n",
    "    n_its,\n",
    "    n_nodes,\n",
    "    nthreads,\n",
    "    n_disks: ((local_read(in_size, n_its) - read_mem(in_size, n_its, n_nodes, nthreads)) \n",
    "              / (disk_r * n_disks * n_nodes)))\n",
    "disk_write = (lambda\n",
    "    in_size,\n",
    "    n_its,\n",
    "    n_nodes,\n",
    "    nthreads,\n",
    "    n_disks : ((local_write(in_size, n_its) - write_mem(in_size, n_its, n_nodes, nthreads)) \n",
    "               / (disk_w * n_disks * n_nodes)))\n",
    "\n",
    "# **Total makespan**\n",
    "lustre_mksp = (lambda\n",
    "    n_files,\n",
    "    n_its,\n",
    "    network_bw,\n",
    "    n_nodes,\n",
    "    file_size : (lustre_read(n_written(n_files, n_its), network_bw, n_nodes, file_size)\n",
    "                 + lustre_write(n_written(n_files, n_its), network_bw, n_nodes, file_size)))\n",
    "\n",
    "sea_mksp = (lambda\n",
    "    n_files,\n",
    "    n_its,\n",
    "    network_bw, \n",
    "    n_nodes, \n",
    "    file_size,\n",
    "    n_threads,\n",
    "    n_disks : (lustre_read(n_files, network_bw, n_nodes, file_size)\n",
    "               + memory_read(n_files*file_size, n_its, n_nodes, n_threads) \n",
    "               + memory_write(n_files*file_size, n_its, n_nodes, n_threads) \n",
    "               + disk_read(n_files*file_size, n_its, n_nodes, n_threads, n_disks) \n",
    "               + disk_write(n_files*file_size, n_its, n_nodes, n_threads, n_disks)))\n",
    "\n",
    "# Page cache models\n",
    "cached_read = (lambda\n",
    "    n_nodes,\n",
    "    n_its,\n",
    "    a_mem,\n",
    "    file_size,\n",
    "    n_threads,\n",
    "    in_data : min(n_nodes * (n_its - 1) * (a_mem - (file_size * n_threads)), in_data * (n_its - 1)))\n",
    "\n",
    "cached_dread = (lambda\n",
    "    n_nodes,\n",
    "    n_its,\n",
    "    a_mem,\n",
    "    t_size,\n",
    "    file_size,\n",
    "    n_threads,\n",
    "    in_data : min(n_nodes * (n_its - 1) * (a_mem - t_size - 2*(file_size * n_threads)),\n",
    "                  in_data*(n_its - 1) - read_mem(in_data, n_its, n_nodes, n_threads)))\n",
    "\n",
    "cached_write = (lambda\n",
    "    dirty_ratio,\n",
    "    n_nodes,\n",
    "    n_its,\n",
    "    a_mem,\n",
    "    file_size,\n",
    "    n_threads,\n",
    "    in_data: min(dirty_ratio * n_nodes * n_its * (a_mem - (file_size * n_threads)), in_data * n_its))\n",
    "                \n",
    "cached_dwrite = (lambda\n",
    "    dirty_ratio,\n",
    "    n_nodes,\n",
    "    n_its,\n",
    "    a_mem,\n",
    "    t_size,\n",
    "    file_size,\n",
    "    n_threads,\n",
    "    in_data: min(dirty_ratio * n_nodes * n_its * (a_mem - t_size - 2*(file_size * n_threads)),\n",
    "                 in_data * n_its - write_mem(in_data, n_its, n_nodes, n_threads)))\n",
    "\n",
    "m_pread = (lambda\n",
    "    n_nodes,\n",
    "    n_its,\n",
    "    a_mem,\n",
    "    file_size,\n",
    "    n_threads,\n",
    "    in_data,\n",
    "    b_mr : cached_read(n_nodes, n_its, a_mem, file_size, n_threads, in_data) / (b_mr * n_nodes))\n",
    "\n",
    "m_pwrite = (lambda\n",
    "    dirty_ratio,\n",
    "    n_nodes,\n",
    "    n_its,\n",
    "    a_mem,\n",
    "    file_size,\n",
    "    n_threads,\n",
    "    in_data,\n",
    "    b_mw : cached_write(dirty_ratio, n_nodes, n_its, a_mem, file_size, n_threads, in_data) / (b_mw * n_nodes))\n",
    "\n",
    "# **With PC**\n",
    "lpc_mksp = (lambda\n",
    "    n_files,\n",
    "    n_its,\n",
    "    network_bw,\n",
    "    n_nodes,\n",
    "    file_size,\n",
    "    a_mem,\n",
    "    n_threads,\n",
    "    in_data,\n",
    "    b_mr,\n",
    "    dirty_ratio,\n",
    "    b_mw : (lustre_read(n_written(n_files, 1), network_bw, n_nodes, file_size)\n",
    "                 + m_pread(n_nodes, n_its, a_mem, file_size, n_threads, in_data, b_mr)\n",
    "                 + (((in_data * (n_its - 1)) - cached_read(n_nodes, n_its, a_mem, file_size, n_threads, in_data))\n",
    "                    / min (network_bw * 4, lustre_r * lustre_disks))\n",
    "                 + m_pwrite(dirty_ratio, n_nodes, n_its, a_mem, file_size, n_threads, in_data, b_mw)\n",
    "                 + (((n_its * in_data) - cached_write(dirty_ratio, n_nodes, n_its, a_mem, file_size, n_threads, in_data))\n",
    "                    / min(network_bw * 4, lustre_r * lustre_disks))))\n",
    "spc_mksp = (lambda\n",
    "    n_files,\n",
    "    n_its,\n",
    "    network_bw, \n",
    "    n_nodes, \n",
    "    file_size,\n",
    "    n_threads,\n",
    "    n_disks,\n",
    "    dirty_ratio,\n",
    "    a_mem,\n",
    "    in_data,\n",
    "    b_mr,\n",
    "    b_mw : (lustre_read(n_files, network_bw, n_nodes, file_size)\n",
    "            + memory_read(n_files*file_size, n_its, n_nodes, n_threads)\n",
    "            + memory_write(n_files*file_size, n_its, n_nodes, n_threads)\n",
    "            + (cached_dread(n_nodes, n_its, a_mem, tmpfs_size, file_size, n_threads, in_data) / (b_mr*n_nodes))\n",
    "            + (cached_dwrite(dirty_ratio, n_nodes, n_its, a_mem, tmpfs_size, file_size, n_threads, in_data) / (b_mw*n_nodes))\n",
    "            + (((in_data * (n_its - 1)) - cached_dread(n_nodes, n_its, a_mem, tmpfs_size, file_size, n_threads, in_data)) / (disk_r * n_disks * n_nodes))\n",
    "            + (((in_data * n_its)  - cached_dwrite(dirty_ratio, n_nodes, n_its, a_mem, tmpfs_size, file_size, n_threads, in_data)) / (disk_w * n_disks * n_nodes))\n",
    "            )\n",
    "    )"
   ]
  },
  {
   "cell_type": "markdown",
   "metadata": {},
   "source": [
    "### Model evaluation - Network bandwidth"
   ]
  },
  {
   "cell_type": "code",
   "execution_count": 11,
   "metadata": {},
   "outputs": [
    {
     "data": {
      "text/plain": [
       "(0.0, 103.9)"
      ]
     },
     "execution_count": 11,
     "metadata": {},
     "output_type": "execute_result"
    },
    {
     "data": {
      "image/png": "[encoded data removed]",
      "text/plain": [
       "<Figure size 432x288 with 1 Axes>"
      ]
     },
     "metadata": {
      "needs_background": "light"
     },
     "output_type": "display_data"
    }
   ],
   "source": [
    "# bw = range(128, 100*128, 128)\n",
    "# gbps = [b/128 for b in bw]\n",
    "\n",
    "# n_cnodes = 5\n",
    "# n_dnodes = 4\n",
    "# mem_r = 6760*7\n",
    "# mem_w = 2560*7\n",
    "# lustre_disks = 11\n",
    "# lustre_r = 50\n",
    "\n",
    "# lustre_read = (lambda\n",
    "#     num_read,\n",
    "#     network_bw,\n",
    "#     n_cnodes,\n",
    "#     n_dnodes,\n",
    "#     file_size,\n",
    "#     n_threads: (num_read * file_size) / min ((network_bw * n_cnodes), (network_bw * n_dnodes),\n",
    "#                                               lustre_r * min(lustre_disks * n_dnodes, n_cnodes * n_threads)))\n",
    "\n",
    "# lpc_mksp = (lambda\n",
    "#     n_files,\n",
    "#     n_its,\n",
    "#     network_bw,\n",
    "#     n_cnodes,\n",
    "#     n_dnodes,\n",
    "#     file_size,\n",
    "#     a_mem,\n",
    "#     n_threads,\n",
    "#     in_data,\n",
    "#     b_mr,\n",
    "#     dirty_ratio,\n",
    "#     b_mw : (lustre_read(n_written(n_files, 1), network_bw, n_cnodes, n_dnodes, file_size, n_threads)\n",
    "#                  + m_pread(n_nodes, n_its, a_mem, file_size, n_threads, in_data, b_mr)\n",
    "#                  + (((in_data * (n_its - 1)) - cached_read(n_nodes, n_its, a_mem, file_size, n_threads, in_data))\n",
    "#                     / min (network_bw * n_cnodes, network_bw * n_dnodes, (n_threads * n_cnodes) / n_dnodes))\n",
    "#                  + m_pwrite(dirty_ratio, n_cnodes, n_its, a_mem, file_size, n_threads, in_data, b_mw)\n",
    "#                  + (((n_its * in_data) - cached_write(dirty_ratio, n_nodes, n_its, a_mem, file_size, n_threads, in_data))\n",
    "#                     / min (network_bw * n_cnodes, network_bw * n_dnodes, (n_threads * n_cnodes) / n_dnodes))))\n",
    "\n",
    "\n",
    "# #lustre = [lpc_mksp(num_files, n_iterations, b, n_cnodes, n_dnodes, file_size, a_mem, n_threads, num_files*file_size, mem_r, dirty_ratio, mem_w) for b in bw]\n",
    "# #sea = [spc_mksp(num_files, n_iterations, b, n_nodes, file_size, n_threads, n_disks, dirty_ratio, a_mem, num_files*file_size, mem_r, mem_w) for b in bw]\n",
    "\n",
    "F = 617\n",
    "n_f = 1000\n",
    "D_in = F * n_f\n",
    "N_c = 5\n",
    "N_d = 4\n",
    "I = 10\n",
    "C = 0.40\n",
    "A = 200 * 1024\n",
    "n = 6\n",
    "O = 44\n",
    "B_n = 25 * 128\n",
    "B_lr = 100 #200\n",
    "B_lw = 75 #191\n",
    "B_mr = 6760 * 7\n",
    "B_mw = 2560 * 7\n",
    "\n",
    "lustre_npc = [M_l(D_in, I, O, N_c, N_d, b, B_lr, B_lw) for b in bw]\n",
    "lustre_pc = [M_lpc(D_in, N_c, N_d, I, C, A, F, n, O, b, B_lr, B_lw, B_mr, B_mw) for b in bw]\n",
    "\n",
    "import seaborn as sns\n",
    "import matplotlib.pyplot as plt\n",
    "\n",
    "sns.lineplot(x=gbps, y=lustre_npc, label=\"Lustre - No Page Cache\")\n",
    "sns.lineplot(x=gbps, y=lustre_pc, label=\"Lustre - Page Cache\")\n",
    "#sns.lineplot(x=gbps, y=sea, label=\"Sea - Flush last\")\n",
    "plt.xlabel(\"Network Bandwidth (Gbps)\")\n",
    "plt.ylabel(\"Makespan (s)\")\n",
    "plt.xlim(0)"
   ]
  },
  {
   "cell_type": "markdown",
   "metadata": {},
   "source": [
    "### Model evaluation - Number of nodes"
   ]
  },
  {
   "cell_type": "code",
   "execution_count": 36,
   "metadata": {},
   "outputs": [
    {
     "ename": "TypeError",
     "evalue": "<lambda>() missing 2 required positional arguments: 'file_size' and 'n_threads'",
     "output_type": "error",
     "traceback": [
      "\u001b[0;31m---------------------------------------------------------------------------\u001b[0m",
      "\u001b[0;31mTypeError\u001b[0m                                 Traceback (most recent call last)",
      "\u001b[0;32m<ipython-input-36-f370e1dd586b>\u001b[0m in \u001b[0;36m<module>\u001b[0;34m\u001b[0m\n\u001b[1;32m     20\u001b[0m \u001b[0mlustre_npc\u001b[0m \u001b[0;34m=\u001b[0m \u001b[0;34m[\u001b[0m\u001b[0mM_l\u001b[0m\u001b[0;34m(\u001b[0m\u001b[0mD_in\u001b[0m\u001b[0;34m,\u001b[0m \u001b[0mI\u001b[0m\u001b[0;34m,\u001b[0m \u001b[0mO\u001b[0m\u001b[0;34m,\u001b[0m \u001b[0mnc\u001b[0m\u001b[0;34m,\u001b[0m \u001b[0mN_d\u001b[0m\u001b[0;34m,\u001b[0m \u001b[0mB_n\u001b[0m\u001b[0;34m,\u001b[0m \u001b[0mB_lr\u001b[0m\u001b[0;34m,\u001b[0m \u001b[0mB_lw\u001b[0m\u001b[0;34m)\u001b[0m \u001b[0;32mfor\u001b[0m \u001b[0mnc\u001b[0m \u001b[0;32min\u001b[0m \u001b[0mnodes\u001b[0m\u001b[0;34m]\u001b[0m\u001b[0;34m\u001b[0m\u001b[0;34m\u001b[0m\u001b[0m\n\u001b[1;32m     21\u001b[0m \u001b[0mlustre_pc\u001b[0m \u001b[0;34m=\u001b[0m \u001b[0;34m[\u001b[0m\u001b[0mM_lpc\u001b[0m\u001b[0;34m(\u001b[0m\u001b[0mD_in\u001b[0m\u001b[0;34m,\u001b[0m \u001b[0mnc\u001b[0m\u001b[0;34m,\u001b[0m \u001b[0mN_d\u001b[0m\u001b[0;34m,\u001b[0m \u001b[0mI\u001b[0m\u001b[0;34m,\u001b[0m \u001b[0mC\u001b[0m\u001b[0;34m,\u001b[0m \u001b[0mA\u001b[0m\u001b[0;34m,\u001b[0m \u001b[0mF\u001b[0m\u001b[0;34m,\u001b[0m \u001b[0mn\u001b[0m\u001b[0;34m,\u001b[0m \u001b[0mO\u001b[0m\u001b[0;34m,\u001b[0m \u001b[0mB_n\u001b[0m\u001b[0;34m,\u001b[0m \u001b[0mB_lr\u001b[0m\u001b[0;34m,\u001b[0m \u001b[0mB_lw\u001b[0m\u001b[0;34m,\u001b[0m \u001b[0mB_mr\u001b[0m\u001b[0;34m,\u001b[0m \u001b[0mB_mw\u001b[0m\u001b[0;34m)\u001b[0m \u001b[0;32mfor\u001b[0m \u001b[0mnc\u001b[0m \u001b[0;32min\u001b[0m \u001b[0mnodes\u001b[0m\u001b[0;34m]\u001b[0m\u001b[0;34m\u001b[0m\u001b[0;34m\u001b[0m\u001b[0m\n\u001b[0;32m---> 22\u001b[0;31m \u001b[0msea\u001b[0m \u001b[0;34m=\u001b[0m \u001b[0;34m[\u001b[0m\u001b[0mspc_mksp\u001b[0m\u001b[0;34m(\u001b[0m\u001b[0mnum_files\u001b[0m\u001b[0;34m,\u001b[0m \u001b[0mn_iterations\u001b[0m\u001b[0;34m,\u001b[0m \u001b[0mb\u001b[0m\u001b[0;34m,\u001b[0m \u001b[0mn\u001b[0m\u001b[0;34m,\u001b[0m \u001b[0mfile_size\u001b[0m\u001b[0;34m,\u001b[0m \u001b[0mn_threads\u001b[0m\u001b[0;34m,\u001b[0m \u001b[0mn_disks\u001b[0m\u001b[0;34m,\u001b[0m \u001b[0mdirty_ratio\u001b[0m\u001b[0;34m,\u001b[0m \u001b[0ma_mem\u001b[0m\u001b[0;34m,\u001b[0m \u001b[0mnum_files\u001b[0m\u001b[0;34m*\u001b[0m\u001b[0mfile_size\u001b[0m\u001b[0;34m,\u001b[0m \u001b[0mmem_r\u001b[0m\u001b[0;34m,\u001b[0m \u001b[0mmem_w\u001b[0m\u001b[0;34m)\u001b[0m \u001b[0;32mfor\u001b[0m \u001b[0mn\u001b[0m \u001b[0;32min\u001b[0m \u001b[0mnodes\u001b[0m\u001b[0;34m]\u001b[0m\u001b[0;34m\u001b[0m\u001b[0;34m\u001b[0m\u001b[0m\n\u001b[0m\u001b[1;32m     23\u001b[0m \u001b[0;34m\u001b[0m\u001b[0m\n\u001b[1;32m     24\u001b[0m \u001b[0mdf\u001b[0m \u001b[0;34m=\u001b[0m \u001b[0mpd\u001b[0m\u001b[0;34m.\u001b[0m\u001b[0mread_csv\u001b[0m\u001b[0;34m(\u001b[0m\u001b[0;34m\"../results/exp_6t_5i_n35.out\"\u001b[0m\u001b[0;34m)\u001b[0m\u001b[0;34m\u001b[0m\u001b[0;34m\u001b[0m\u001b[0m\n",
      "\u001b[0;32m<ipython-input-36-f370e1dd586b>\u001b[0m in \u001b[0;36m<listcomp>\u001b[0;34m(.0)\u001b[0m\n\u001b[1;32m     20\u001b[0m \u001b[0mlustre_npc\u001b[0m \u001b[0;34m=\u001b[0m \u001b[0;34m[\u001b[0m\u001b[0mM_l\u001b[0m\u001b[0;34m(\u001b[0m\u001b[0mD_in\u001b[0m\u001b[0;34m,\u001b[0m \u001b[0mI\u001b[0m\u001b[0;34m,\u001b[0m \u001b[0mO\u001b[0m\u001b[0;34m,\u001b[0m \u001b[0mnc\u001b[0m\u001b[0;34m,\u001b[0m \u001b[0mN_d\u001b[0m\u001b[0;34m,\u001b[0m \u001b[0mB_n\u001b[0m\u001b[0;34m,\u001b[0m \u001b[0mB_lr\u001b[0m\u001b[0;34m,\u001b[0m \u001b[0mB_lw\u001b[0m\u001b[0;34m)\u001b[0m \u001b[0;32mfor\u001b[0m \u001b[0mnc\u001b[0m \u001b[0;32min\u001b[0m \u001b[0mnodes\u001b[0m\u001b[0;34m]\u001b[0m\u001b[0;34m\u001b[0m\u001b[0;34m\u001b[0m\u001b[0m\n\u001b[1;32m     21\u001b[0m \u001b[0mlustre_pc\u001b[0m \u001b[0;34m=\u001b[0m \u001b[0;34m[\u001b[0m\u001b[0mM_lpc\u001b[0m\u001b[0;34m(\u001b[0m\u001b[0mD_in\u001b[0m\u001b[0;34m,\u001b[0m \u001b[0mnc\u001b[0m\u001b[0;34m,\u001b[0m \u001b[0mN_d\u001b[0m\u001b[0;34m,\u001b[0m \u001b[0mI\u001b[0m\u001b[0;34m,\u001b[0m \u001b[0mC\u001b[0m\u001b[0;34m,\u001b[0m \u001b[0mA\u001b[0m\u001b[0;34m,\u001b[0m \u001b[0mF\u001b[0m\u001b[0;34m,\u001b[0m \u001b[0mn\u001b[0m\u001b[0;34m,\u001b[0m \u001b[0mO\u001b[0m\u001b[0;34m,\u001b[0m \u001b[0mB_n\u001b[0m\u001b[0;34m,\u001b[0m \u001b[0mB_lr\u001b[0m\u001b[0;34m,\u001b[0m \u001b[0mB_lw\u001b[0m\u001b[0;34m,\u001b[0m \u001b[0mB_mr\u001b[0m\u001b[0;34m,\u001b[0m \u001b[0mB_mw\u001b[0m\u001b[0;34m)\u001b[0m \u001b[0;32mfor\u001b[0m \u001b[0mnc\u001b[0m \u001b[0;32min\u001b[0m \u001b[0mnodes\u001b[0m\u001b[0;34m]\u001b[0m\u001b[0;34m\u001b[0m\u001b[0;34m\u001b[0m\u001b[0m\n\u001b[0;32m---> 22\u001b[0;31m \u001b[0msea\u001b[0m \u001b[0;34m=\u001b[0m \u001b[0;34m[\u001b[0m\u001b[0mspc_mksp\u001b[0m\u001b[0;34m(\u001b[0m\u001b[0mnum_files\u001b[0m\u001b[0;34m,\u001b[0m \u001b[0mn_iterations\u001b[0m\u001b[0;34m,\u001b[0m \u001b[0mb\u001b[0m\u001b[0;34m,\u001b[0m \u001b[0mn\u001b[0m\u001b[0;34m,\u001b[0m \u001b[0mfile_size\u001b[0m\u001b[0;34m,\u001b[0m \u001b[0mn_threads\u001b[0m\u001b[0;34m,\u001b[0m \u001b[0mn_disks\u001b[0m\u001b[0;34m,\u001b[0m \u001b[0mdirty_ratio\u001b[0m\u001b[0;34m,\u001b[0m \u001b[0ma_mem\u001b[0m\u001b[0;34m,\u001b[0m \u001b[0mnum_files\u001b[0m\u001b[0;34m*\u001b[0m\u001b[0mfile_size\u001b[0m\u001b[0;34m,\u001b[0m \u001b[0mmem_r\u001b[0m\u001b[0;34m,\u001b[0m \u001b[0mmem_w\u001b[0m\u001b[0;34m)\u001b[0m \u001b[0;32mfor\u001b[0m \u001b[0mn\u001b[0m \u001b[0;32min\u001b[0m \u001b[0mnodes\u001b[0m\u001b[0;34m]\u001b[0m\u001b[0;34m\u001b[0m\u001b[0;34m\u001b[0m\u001b[0m\n\u001b[0m\u001b[1;32m     23\u001b[0m \u001b[0;34m\u001b[0m\u001b[0m\n\u001b[1;32m     24\u001b[0m \u001b[0mdf\u001b[0m \u001b[0;34m=\u001b[0m \u001b[0mpd\u001b[0m\u001b[0;34m.\u001b[0m\u001b[0mread_csv\u001b[0m\u001b[0;34m(\u001b[0m\u001b[0;34m\"../results/exp_6t_5i_n35.out\"\u001b[0m\u001b[0;34m)\u001b[0m\u001b[0;34m\u001b[0m\u001b[0;34m\u001b[0m\u001b[0m\n",
      "\u001b[0;32m<ipython-input-10-e76a8db3af26>\u001b[0m in \u001b[0;36m<lambda>\u001b[0;34m(n_files, n_its, network_bw, n_nodes, file_size, n_threads, n_disks, dirty_ratio, a_mem, in_data, b_mr, b_mw)\u001b[0m\n\u001b[1;32m    187\u001b[0m             \u001b[0;34m+\u001b[0m \u001b[0;34m(\u001b[0m\u001b[0mcached_dwrite\u001b[0m\u001b[0;34m(\u001b[0m\u001b[0mdirty_ratio\u001b[0m\u001b[0;34m,\u001b[0m \u001b[0mn_nodes\u001b[0m\u001b[0;34m,\u001b[0m \u001b[0mn_its\u001b[0m\u001b[0;34m,\u001b[0m \u001b[0ma_mem\u001b[0m\u001b[0;34m,\u001b[0m \u001b[0mtmpfs_size\u001b[0m\u001b[0;34m,\u001b[0m \u001b[0mfile_size\u001b[0m\u001b[0;34m,\u001b[0m \u001b[0mn_threads\u001b[0m\u001b[0;34m,\u001b[0m \u001b[0min_data\u001b[0m\u001b[0;34m)\u001b[0m \u001b[0;34m/\u001b[0m \u001b[0;34m(\u001b[0m\u001b[0mb_mw\u001b[0m\u001b[0;34m*\u001b[0m\u001b[0mn_nodes\u001b[0m\u001b[0;34m)\u001b[0m\u001b[0;34m)\u001b[0m\u001b[0;34m\u001b[0m\u001b[0;34m\u001b[0m\u001b[0m\n\u001b[1;32m    188\u001b[0m             \u001b[0;34m+\u001b[0m \u001b[0;34m(\u001b[0m\u001b[0;34m(\u001b[0m\u001b[0;34m(\u001b[0m\u001b[0min_data\u001b[0m \u001b[0;34m*\u001b[0m \u001b[0;34m(\u001b[0m\u001b[0mn_its\u001b[0m \u001b[0;34m-\u001b[0m \u001b[0;36m1\u001b[0m\u001b[0;34m)\u001b[0m\u001b[0;34m)\u001b[0m \u001b[0;34m-\u001b[0m \u001b[0mcached_dread\u001b[0m\u001b[0;34m(\u001b[0m\u001b[0mn_nodes\u001b[0m\u001b[0;34m,\u001b[0m \u001b[0mn_its\u001b[0m\u001b[0;34m,\u001b[0m \u001b[0ma_mem\u001b[0m\u001b[0;34m,\u001b[0m \u001b[0mtmpfs_size\u001b[0m\u001b[0;34m,\u001b[0m \u001b[0mfile_size\u001b[0m\u001b[0;34m,\u001b[0m \u001b[0mn_threads\u001b[0m\u001b[0;34m,\u001b[0m \u001b[0min_data\u001b[0m\u001b[0;34m)\u001b[0m\u001b[0;34m)\u001b[0m \u001b[0;34m/\u001b[0m \u001b[0;34m(\u001b[0m\u001b[0mdisk_r\u001b[0m \u001b[0;34m*\u001b[0m \u001b[0mn_disks\u001b[0m \u001b[0;34m*\u001b[0m \u001b[0mn_nodes\u001b[0m\u001b[0;34m)\u001b[0m\u001b[0;34m)\u001b[0m\u001b[0;34m\u001b[0m\u001b[0;34m\u001b[0m\u001b[0m\n\u001b[0;32m--> 189\u001b[0;31m             \u001b[0;34m+\u001b[0m \u001b[0;34m(\u001b[0m\u001b[0;34m(\u001b[0m\u001b[0;34m(\u001b[0m\u001b[0min_data\u001b[0m \u001b[0;34m*\u001b[0m \u001b[0mn_its\u001b[0m\u001b[0;34m)\u001b[0m  \u001b[0;34m-\u001b[0m \u001b[0mcached_dwrite\u001b[0m\u001b[0;34m(\u001b[0m\u001b[0mdirty_ratio\u001b[0m\u001b[0;34m,\u001b[0m \u001b[0mn_nodes\u001b[0m\u001b[0;34m,\u001b[0m \u001b[0mn_its\u001b[0m\u001b[0;34m,\u001b[0m \u001b[0ma_mem\u001b[0m\u001b[0;34m,\u001b[0m \u001b[0mtmpfs_size\u001b[0m\u001b[0;34m,\u001b[0m \u001b[0mfile_size\u001b[0m\u001b[0;34m,\u001b[0m \u001b[0mn_threads\u001b[0m\u001b[0;34m,\u001b[0m \u001b[0min_data\u001b[0m\u001b[0;34m)\u001b[0m\u001b[0;34m)\u001b[0m \u001b[0;34m/\u001b[0m \u001b[0;34m(\u001b[0m\u001b[0mdisk_w\u001b[0m \u001b[0;34m*\u001b[0m \u001b[0mn_disks\u001b[0m \u001b[0;34m*\u001b[0m \u001b[0mn_nodes\u001b[0m\u001b[0;34m)\u001b[0m\u001b[0;34m)\u001b[0m\u001b[0;34m\u001b[0m\u001b[0;34m\u001b[0m\u001b[0m\n\u001b[0m\u001b[1;32m    190\u001b[0m             )\n\u001b[1;32m    191\u001b[0m     )\n",
      "\u001b[0;31mTypeError\u001b[0m: <lambda>() missing 2 required positional arguments: 'file_size' and 'n_threads'"
     ]
    }
   ],
   "source": [
    "import pandas as pd\n",
    "import seaborn as sns\n",
    "import matplotlib.pyplot as plt\n",
    "\n",
    "nodes = range(1,9)\n",
    "b = 50*128\n",
    "num_files = 1000\n",
    "n_iterations = 10\n",
    "n_cnodes = 5\n",
    "n_dnodes = 4\n",
    "file_size = 617\n",
    "a_mem = 200 * 1024\n",
    "n_threads = 6\n",
    "mem_r = 6760*7\n",
    "mem_w = 2560*7\n",
    "dirty_ratio = 0.4\n",
    "network_bw = 60*128\n",
    "lustre_r=1000\n",
    "#lustre = [lpc_mksp(num_files, n_iterations, b, n, n_dnodes, file_size, a_mem, n_threads, num_files*file_size, mem_r, dirty_ratio, mem_w) for n in nodes]\n",
    "lustre_npc = [M_l(D_in, I, O, nc, N_d, B_n, B_lr, B_lw) for nc in nodes]\n",
    "lustre_pc = [M_lpc(D_in, nc, N_d, I, C, A, F, n, O, B_n, B_lr, B_lw, B_mr, B_mw) for nc in nodes]\n",
    "sea = [spc_mksp(num_files, n_iterations, b, n, file_size, n_threads, n_disks, dirty_ratio, a_mem, num_files*file_size, mem_r, mem_w) for n in nodes]\n",
    "\n",
    "df = pd.read_csv(\"../results/exp_6t_5i_n35.out\")\n",
    "df[\"nodes\"] = df[\"experiment\"].apply(lambda row: int(row.split('n_')[0].split(\"_\")[-1]))\n",
    "df[\"experiment\"] = df[\"experiment\"].apply((lambda row: row.split(\"_\")[0] if \"lustre\" in row else row.split(\"_\")[1]))\n",
    "\n",
    "df_lustre=df[df[\"experiment\"] == \"lustre\"]\n",
    "df_last=df[df[\"experiment\"] == \"mem\"]\n",
    "\n",
    "#sns.lineplot(x=nodes, y=lustre_npc, label=\"Lustre - No Page Cache(model)\")\n",
    "sns.lineplot(x=nodes, y=lustre_pc, label=\"Lustre - Page Cache(model)\")\n",
    "sns.lineplot(x=nodes, y=sea, label=\"Sea - Flush last (model)\")\n",
    "sns.scatterplot(data=df_lustre, x=\"nodes\", y=\"runtime\", label=\"Lustre (real)\")\n",
    "#sns.scatterplot(data=df_last, x=\"nodes\", y=\"runtime\", label=\"Sea - Flush last (real)\")\n",
    "plt.xlabel(\"Number of nodes\")\n",
    "plt.ylabel(\"Makespan (s)\")"
   ]
  },
  {
   "cell_type": "markdown",
   "metadata": {},
   "source": [
    "### Model evaluation - Number of disks"
   ]
  },
  {
   "cell_type": "code",
   "execution_count": 13,
   "metadata": {},
   "outputs": [
    {
     "data": {
      "text/plain": [
       "Text(0, 0.5, 'Makespan (s)')"
      ]
     },
     "execution_count": 13,
     "metadata": {},
     "output_type": "execute_result"
    },
    {
     "data": {
      "image/png": "[encoded data removed]",
      "text/plain": [
       "<Figure size 432x288 with 1 Axes>"
      ]
     },
     "metadata": {
      "needs_background": "light"
     },
     "output_type": "display_data"
    }
   ],
   "source": [
    "import pandas as pd\n",
    "import seaborn as sns\n",
    "import matplotlib.pyplot as plt\n",
    "\n",
    "nodes = 5\n",
    "bw = 4*8\n",
    "disks = range(1, 7)\n",
    "\n",
    "#lustre = [lpc_mksp(num_files, n_iterations, b, nodes, file_size, a_mem, n_threads, num_files*file_size, mem_r, dirty_ratio, mem_w) for d in disks]\n",
    "lustre = [M_lpc(D_in, N_c, N_d, I, C, A, F, n, O, B_n, B_lr, B_lw, B_mr, B_mw) for d in disks]\n",
    "#sea = [spc_mksp(num_files, n_iterations, b, nodes, file_size, n_threads, d, dirty_ratio, a_mem, num_files*file_size, mem_r, mem_w) for d in disks]\n",
    "\n",
    "df = pd.read_csv(\"../results/experiment_disks.out\")\n",
    "df = df[(df[\"experiment\"].str.contains(\"mem\"))]\n",
    "df[\"disks\"] = df[\"experiment\"].apply(lambda name: int(name.split(\"d_\")[0].split(\"_\")[-1]))\n",
    "df = df.sort_values(by=['disks'])\n",
    "\n",
    "sns.lineplot(x=disks, y=lustre, label=\"Lustre (Model)\")\n",
    "#sns.lineplot(x=disks, y=sea, label=\"Sea - Flush last (Model)\")\n",
    "sns.scatterplot(data=df, x=\"disks\", y=\"runtime\", label=\"Sea- Flush last (Real)\", color=\"orange\")\n",
    "plt.xlabel(\"Number of disks\")\n",
    "plt.ylabel(\"Makespan (s)\")"
   ]
  },
  {
   "cell_type": "markdown",
   "metadata": {},
   "source": [
    "### Model evaluation - Number of iterations"
   ]
  },
  {
   "cell_type": "code",
   "execution_count": 15,
   "metadata": {},
   "outputs": [
    {
     "data": {
      "text/plain": [
       "(0.0, 20.0)"
      ]
     },
     "execution_count": 15,
     "metadata": {},
     "output_type": "execute_result"
    },
    {
     "data": {
      "image/png": "[encoded data removed]",
      "text/plain": [
       "<Figure size 432x288 with 1 Axes>"
      ]
     },
     "metadata": {
      "needs_background": "light"
     },
     "output_type": "display_data"
    }
   ],
   "source": [
    "import pandas as pd\n",
    "import seaborn as sns\n",
    "import matplotlib.pyplot as plt\n",
    "\n",
    "nodes = 5\n",
    "bw = 4*8\n",
    "d = 6\n",
    "n_iterations = range(1, 21)\n",
    "\n",
    "#lustre = [lpc_mksp(num_files, i, b, nodes, file_size, a_mem, n_threads, num_files*file_size, mem_r, dirty_ratio, mem_w)  for i in n_iterations]\n",
    "lustre = [M_lpc(D_in, N_c, i, C, A, F, n, O, B_n, B_lr, B_lw, B_mr, B_mw) for i in n_iterations]\n",
    "#sea = [spc_mksp(num_files, i, b, nodes, file_size, n_threads, d, dirty_ratio, a_mem, num_files*file_size, mem_r, mem_w) for i in n_iterations]\n",
    "\n",
    "\n",
    "sns.lineplot(x=n_iterations, y=lustre, label=\"Lustre (Model)\")\n",
    "#sns.lineplot(x=n_iterations, y=sea, label=\"Sea - Flush last (Model)\")\n",
    "#sns.scatterplot(data=df, x=\"disks\", y=\"runtime\", label=\"Sea- Flush last (Real)\", color=\"orange\")\n",
    "plt.xlabel(\"Number of iterations\")\n",
    "plt.ylabel(\"Makespan (s)\")\n",
    "plt.xlim(0, 20)"
   ]
  },
  {
   "cell_type": "markdown",
   "metadata": {},
   "source": [
    "### Model evaluation - Number of files"
   ]
  },
  {
   "cell_type": "code",
   "execution_count": 26,
   "metadata": {},
   "outputs": [
    {
     "data": {
      "text/plain": [
       "(0.0, 76664.12517779216)"
      ]
     },
     "execution_count": 26,
     "metadata": {},
     "output_type": "execute_result"
    },
    {
     "data": {
      "image/png": "[encoded data removed]",
      "text/plain": [
       "<Figure size 432x288 with 1 Axes>"
      ]
     },
     "metadata": {
      "needs_background": "light"
     },
     "output_type": "display_data"
    }
   ],
   "source": [
    "import pandas as pd\n",
    "import seaborn as sns\n",
    "import matplotlib.pyplot as plt\n",
    "\n",
    "nodes = 5\n",
    "bw = 4*8\n",
    "d = 6\n",
    "i = 5\n",
    "num_files = range(0, 10001)\n",
    "\n",
    "lustre = [M_lpc(f*n_f, N_c, N_d, I, C, A, F, n, O, B_n, B_lr, B_lw, B_mr, B_mw) for f in num_files]\n",
    "\n",
    "#lustre = [lpc_mksp(f, i, b, nodes, file_size, a_mem, n_threads, f*file_size, mem_r, dirty_ratio, mem_w) for f in num_files]\n",
    "#sea = [spc_mksp(f, i, b, nodes, file_size, n_threads, d, dirty_ratio, a_mem, f*file_size, mem_r, mem_w) for f in num_files]\n",
    "\n",
    "\n",
    "sns.lineplot(x=num_files, y=lustre, label=\"Lustre (Model)\")\n",
    "#sns.lineplot(x=num_files, y=sea, label=\"Sea - Flush last (Model)\")\n",
    "#sns.scatterplot(data=df, x=\"disks\", y=\"runtime\", label=\"Sea- Flush last (Real)\", color=\"orange\")\n",
    "plt.xlabel(\"Number of files\")\n",
    "plt.ylabel(\"Makespan (s)\")\n",
    "plt.xlim(0,10001)\n",
    "plt.ylim(0)"
   ]
  },
  {
   "cell_type": "markdown",
   "metadata": {},
   "source": [
    "### Model evaluation - Number of threads"
   ]
  },
  {
   "cell_type": "code",
   "execution_count": 28,
   "metadata": {},
   "outputs": [
    {
     "data": {
      "text/plain": [
       "(0.0, 7150.041990599944)"
      ]
     },
     "execution_count": 28,
     "metadata": {},
     "output_type": "execute_result"
    },
    {
     "data": {
      "image/png": "[encoded data removed]",
      "text/plain": [
       "<Figure size 432x288 with 1 Axes>"
      ]
     },
     "metadata": {
      "needs_background": "light"
     },
     "output_type": "display_data"
    }
   ],
   "source": [
    "import pandas as pd\n",
    "import seaborn as sns\n",
    "import matplotlib.pyplot as plt\n",
    "\n",
    "nodes = 5\n",
    "bw = 4*8\n",
    "d = 6\n",
    "i = 5\n",
    "f = 1000\n",
    "threads = range(1, 65)\n",
    "\n",
    "#lustre = [lpc_mksp(f, i, b, nodes, file_size, a_mem, t, f*file_size, mem_r, dirty_ratio, mem_w) for t in threads]\n",
    "#sea = [spc_mksp(f, i, b, nodes, file_size, t, d, dirty_ratio, a_mem, f*file_size, mem_r, mem_w) for t in threads]\n",
    "lustre = [M_lpc(D_in, N_c, N_d, I, C, A, F, t, O, B_n, B_lr, B_lw, B_mr, B_mw) for t in threads]\n",
    "\n",
    "\n",
    "sns.lineplot(x=threads, y=lustre, label=\"Lustre (Model)\")\n",
    "#sns.lineplot(x=threads, y=sea, label=\"Sea - Flush last (Model)\")\n",
    "#sns.scatterplot(data=df, x=\"disks\", y=\"runtime\", label=\"Sea- Flush last (Real)\", color=\"orange\")\n",
    "plt.xlabel(\"Number of threads\")\n",
    "plt.ylabel(\"Makespan (s)\")\n",
    "plt.xlim(0,65)\n",
    "plt.ylim(0)"
   ]
  },
  {
   "cell_type": "code",
   "execution_count": null,
   "metadata": {},
   "outputs": [],
   "source": [
    "lustre_read = (lambda\n",
    "    num_read,\n",
    "    network_bw,\n",
    "    n_cnodes,\n",
    "    n_dnodes,\n",
    "    file_size,\n",
    "    n_threads: (num_read * file_size) / min ((network_bw * n_cnodes), (network_bw * n_dnodes),\n",
    "                                              lustre_r * min(lustre_disks * lustre_nodes, n_cnodes * n_threads)))\n",
    "lustre_r = 50\n",
    "lustre_disks = 11\n",
    "lustre_nodes = 4\n",
    "network = 25*128\n",
    "file_size = 617\n",
    "n_threads = 6\n",
    "#lustre_read(1000, 15*128, 3, 4, file_size)\n",
    "print(\"network\", network*3, network * lustre_nodes,lustre_r * min(lustre_disks * lustre_nodes, 3 * 6))\n",
    "print(\"lustre\", lustre_r * min(lustre_disks,1))\n",
    "lustre_read(1000, network, 3, 4, 617,n_threads)\n",
    "\n"
   ]
  },
  {
   "cell_type": "code",
   "execution_count": null,
   "metadata": {},
   "outputs": [],
   "source": [
    "lustre_read(1000, network, 5, 4, file_size, n_threads)"
   ]
  },
  {
   "cell_type": "code",
   "execution_count": null,
   "metadata": {},
   "outputs": [],
   "source": [
    "lustre_read(1000, network, 8, 4, file_size, n_threads)"
   ]
  },
  {
   "cell_type": "code",
   "execution_count": null,
   "metadata": {},
   "outputs": [],
   "source": [
    "n_its = 1\n",
    "in_data = 617*1000\n",
    "lustre_r = 50\n",
    "mem_r = 6760*7\n",
    "mem_w = 2560*7\n",
    "lpc_mksp = (lambda\n",
    "    n_files,\n",
    "    n_its,\n",
    "    network_bw,\n",
    "    n_cnodes,\n",
    "    n_dnodes,\n",
    "    file_size,\n",
    "    a_mem,\n",
    "    n_threads,\n",
    "    in_data,\n",
    "    b_mr,\n",
    "    dirty_ratio,\n",
    "    b_mw : (lustre_read(n_written(n_files, 1), network_bw, n_cnodes, n_dnodes, file_size, n_threads)\n",
    "                 + m_pread(n_nodes, n_its, a_mem, file_size, n_threads, in_data, b_mr)\n",
    "                 + (((in_data * (n_its - 1)) - cached_read(n_nodes, n_its, a_mem, file_size, n_threads, in_data))\n",
    "                    / min (network_bw * n_cnodes, network_bw * n_dnodes, (n_threads * n_cnodes) / n_dnodes))\n",
    "                 + m_pwrite(dirty_ratio, n_cnodes, n_its, a_mem, file_size, n_threads, in_data, b_mw)\n",
    "                 + (((n_its * in_data) - cached_write(dirty_ratio, n_nodes, n_its, a_mem, file_size, n_threads, in_data))\n",
    "                    / min (network_bw * n_cnodes, network_bw * n_dnodes, (n_threads * n_cnodes) / n_dnodes))))\n",
    "\n",
    "\n",
    "(((1 * 617*1000) - cached_write(0.4, 3, 1, 200*1024, 617, 1, 617*1000))\n",
    "                    / min (25*128 *3, 25*128 *4, lustre_r * min(11 * 4, 3 * 1)))\n",
    "\n",
    "(1 * 617*1000) #- \n",
    "cached_write(0.4, 3, 1, 400*1024, 617, 6, 617*1000)\n",
    "lustre_read(n_written(1000, 1), network, 3, 4, 617, 6)"
   ]
  },
  {
   "cell_type": "code",
   "execution_count": null,
   "metadata": {},
   "outputs": [],
   "source": [
    "lpc_mksp(1000, 1, 25*128, 3, 4, 617, 400*1024, 6, 1000*617, mem_r, 0.40, mem_w)"
   ]
  },
  {
   "cell_type": "code",
   "execution_count": null,
   "metadata": {},
   "outputs": [],
   "source": [
    "lpc_mksp(1000, 1, 25*128, 5, 4, 617, 400*1024, 6, 1000*617, mem_r, 0.40, mem_w)"
   ]
  },
  {
   "cell_type": "code",
   "execution_count": null,
   "metadata": {},
   "outputs": [],
   "source": [
    "lpc_mksp(1000, 1, 25*128, 8, 4, 617, 400*1024, 6, 1000*617, mem_r, 0.40, mem_w)"
   ]
  },
  {
   "cell_type": "code",
   "execution_count": 35,
   "metadata": {},
   "outputs": [
    {
     "data": {
      "text/plain": [
       "279.65822271825397"
      ]
     },
     "execution_count": 35,
     "metadata": {},
     "output_type": "execute_result"
    }
   ],
   "source": [
    "nbw = 25*128\n",
    "M_lpc(D_in, 3, N_d, 1, C, A, F, n, O, nbw, 200, 200, B_mr, B_mw)"
   ]
  },
  {
   "cell_type": "code",
   "execution_count": 34,
   "metadata": {},
   "outputs": [
    {
     "data": {
      "text/plain": [
       "142.54711160714285"
      ]
     },
     "execution_count": 34,
     "metadata": {},
     "output_type": "execute_result"
    }
   ],
   "source": [
    "M_lpc(D_in, 5, N_d, 1, C, A, F, n, O, nbw, 200, 200, B_mr, B_mw)"
   ]
  },
  {
   "cell_type": "code",
   "execution_count": 33,
   "metadata": {},
   "outputs": [
    {
     "data": {
      "text/plain": [
       "74.41748681006493"
      ]
     },
     "execution_count": 33,
     "metadata": {},
     "output_type": "execute_result"
    }
   ],
   "source": [
    "M_lpc(D_in, 8, N_d, 1, C, A, F, n, O, nbw, 200, 200, B_mr, B_mw)"
   ]
  },
  {
   "cell_type": "code",
   "execution_count": 20,
   "metadata": {},
   "outputs": [
    {
     "data": {
      "text/plain": [
       "140.22727272727272"
      ]
     },
     "execution_count": 20,
     "metadata": {},
     "output_type": "execute_result"
    }
   ],
   "source": [
    "D_in / min(B_n * N_c, B_n * N_d, B_lr * O)"
   ]
  },
  {
   "cell_type": "code",
   "execution_count": 21,
   "metadata": {},
   "outputs": [
    {
     "data": {
      "text/plain": [
       "(64.27083333333333, 9600, 3200, 3)"
      ]
     },
     "execution_count": 21,
     "metadata": {},
     "output_type": "execute_result"
    }
   ],
   "source": [
    "(617*1000)/(B_n * 3), (B_n * 3), B_n, 3"
   ]
  },
  {
   "cell_type": "code",
   "execution_count": 22,
   "metadata": {},
   "outputs": [
    {
     "data": {
      "text/plain": [
       "(48.203125, 12800, 3200, 4)"
      ]
     },
     "execution_count": 22,
     "metadata": {},
     "output_type": "execute_result"
    }
   ],
   "source": [
    "(617*1000)/(B_n * N_d), (B_n * N_d), B_n, N_d"
   ]
  },
  {
   "cell_type": "code",
   "execution_count": null,
   "metadata": {},
   "outputs": [],
   "source": []
  }
 ],
 "metadata": {
  "kernelspec": {
   "display_name": "Python 3",
   "language": "python",
   "name": "python3"
  },
  "language_info": {
   "codemirror_mode": {
    "name": "ipython",
    "version": 3
   },
   "file_extension": ".py",
   "mimetype": "text/x-python",
   "name": "python",
   "nbconvert_exporter": "python",
   "pygments_lexer": "ipython3",
   "version": "3.7.9"
  }
 },
 "nbformat": 4,
 "nbformat_minor": 4
}
